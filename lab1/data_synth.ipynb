{
 "cells": [
  {
   "cell_type": "code",
   "execution_count": 2,
   "metadata": {},
   "outputs": [],
   "source": [
    "import numpy as np\n",
    "from numpy.random import randint, choice\n",
    "import pandas as pd\n",
    "import string\n",
    "import datetime\n",
    "import linecache\n",
    "import PySimpleGUI as sg"
   ]
  },
  {
   "cell_type": "code",
   "execution_count": 3,
   "metadata": {},
   "outputs": [],
   "source": [
    "AD_PROB = {\n",
    "    'autumn': (0.7, 0.2, 0.1),\n",
    "    'winter': (0.4, 0.1, 0.5),\n",
    "    'spring': (0.6, 0.3, 0.1),\n",
    "    'summer': (0.5, 0.4, 0.1),\n",
    "}\n",
    "SEASONS = (\n",
    "    'autumn',\n",
    "    'winter',\n",
    "    'spring',\n",
    "    'summer'\n",
    ")\n",
    "MONTH_RANGE = {\n",
    "    'autumn': (9, 92),\n",
    "    'winter': (11, 90),\n",
    "    'spring': (3, 91),\n",
    "    'summer': (6, 91)\n",
    "}\n",
    "EMAILS = (\n",
    "    'gmail.com',\n",
    "    'mail.ru',\n",
    "    'outlook.com',\n",
    "    'yahoo.com',\n",
    "    'student.spbu.ru',\n",
    "    'yandex.ru'\n",
    ")\n",
    "CATEGORIES = (\n",
    "    'apparel',\n",
    "    'home-and-garden',\n",
    "    'jewelery'\n",
    ")\n",
    "CATEGORIES_LENGTH = {\n",
    "    'apparel': 20,\n",
    "    'home-and-garden': 20,\n",
    "    'jewelery': 20\n",
    "}\n",
    "ALPHABET = list(string.ascii_letters + string.digits)\n",
    "YEAR = 2023\n",
    "WEBSITES_NUM = 50\n",
    "AD_DUR_COEFF = randint(20, 361)\n",
    "SIZE = 50000\n",
    "\n",
    "chosen_season = 'autumn'"
   ]
  },
  {
   "cell_type": "code",
   "execution_count": 4,
   "metadata": {},
   "outputs": [],
   "source": [
    "def ip_is_correct(ip) -> bool:\n",
    "    first, second, third, fourth = ip[0], ip[1], ip[2], ip[3]\n",
    "    return not (first == 10 and (0 <= second <= 255 or 0 <= third <= 255 or 0 <= fourth <= 255) or\n",
    "        first == 172 and (16 <= second <= 31 or 0 <= third <= 255 or 0 <= fourth <= 255) or\n",
    "        first == 192 and second == 168 and (0 <= third <= 255 or 0 <= fourth <= 255) or\n",
    "        first == 100 and (64 <= second <= 127 or 0 <= third <= 255 or 0 <= fourth <= 255))"
   ]
  },
  {
   "cell_type": "code",
   "execution_count": 5,
   "metadata": {},
   "outputs": [],
   "source": [
    "def generate_email(EMAILS) -> string:\n",
    "    return f\"{''.join(choice(ALPHABET, size=randint(2, 10)))}@{choice(EMAILS, size=1)[0]}\""
   ]
  },
  {
   "cell_type": "code",
   "execution_count": 6,
   "metadata": {},
   "outputs": [],
   "source": [
    "def generate_ip() -> string:\n",
    "    ip = (randint(0, 255), randint(0, 255), randint(0, 255), randint(0, 255))\n",
    "    while (not ip_is_correct(ip)):\n",
    "        ip = (randint(0, 255), randint(0, 255), randint(0, 255), randint(0, 255))\n",
    "    return f'{ip[0]}.{ip[1]}.{ip[2]}.{ip[3]}'"
   ]
  },
  {
   "cell_type": "code",
   "execution_count": 7,
   "metadata": {},
   "outputs": [],
   "source": [
    "def generate_date(MONTH_RANGE, chosen_season) -> string:\n",
    "    delta = datetime.timedelta(\n",
    "        days=randint(MONTH_RANGE[chosen_season][1]),\n",
    "        hours=randint(25),\n",
    "        minutes=randint(61),\n",
    "    )\n",
    "    date = datetime.datetime(\n",
    "        year=YEAR,\n",
    "        month=MONTH_RANGE[chosen_season][0],\n",
    "        day=randint(1, 31),\n",
    "        hour=0,\n",
    "        minute=0\n",
    "    )\n",
    "    return (date + delta).isoformat()"
   ]
  },
  {
   "cell_type": "code",
   "execution_count": 8,
   "metadata": {},
   "outputs": [],
   "source": [
    "def generate_platform() -> string:\n",
    "    return linecache.getline('data/websites.txt', randint(1, 51)).rstrip()"
   ]
  },
  {
   "cell_type": "code",
   "execution_count": 9,
   "metadata": {},
   "outputs": [],
   "source": [
    "def generate_ad(CATEGORIES, AD_PROB, CATEGORIES_LENGTH, chosen_season) -> string:\n",
    "    category = choice(CATEGORIES, size=1, p=AD_PROB[chosen_season])[0]\n",
    "    return linecache.getline(f'data/{category}.txt', randint(CATEGORIES_LENGTH[category] + 1)).rstrip()"
   ]
  },
  {
   "cell_type": "code",
   "execution_count": 10,
   "metadata": {},
   "outputs": [],
   "source": [
    "def generate_row(AD_DUR_COEFF, chosen_season) -> dict:\n",
    "    ad_num = randint(1, 101)\n",
    "    ad_time = ad_num * AD_DUR_COEFF\n",
    "    row = {\n",
    "        'email': generate_email(),\n",
    "        'ip': generate_ip(),\n",
    "        'platform': generate_platform(),\n",
    "        'date': generate_date(chosen_season),\n",
    "        'ad_num': ad_num,\n",
    "        'ad_time': ad_time,\n",
    "        'ad_type': generate_ad(chosen_season),\n",
    "    }\n",
    "\n",
    "    return row"
   ]
  },
  {
   "cell_type": "code",
   "execution_count": 11,
   "metadata": {},
   "outputs": [],
   "source": [
    "def generate_file(SIZE) -> list:\n",
    "    return [generate_row() for i in range(int(SIZE))]"
   ]
  },
  {
   "cell_type": "code",
   "execution_count": 12,
   "metadata": {},
   "outputs": [],
   "source": [
    "def generate_excel() -> None:\n",
    "    df = pd.DataFrame.from_records(generate_file(), columns=[\n",
    "        'email',\n",
    "        'ip',\n",
    "        'platform',\n",
    "        'date',\n",
    "        'ad_num',\n",
    "        'ad_time',\n",
    "        'ad_type'\n",
    "    ])\n",
    "    df.to_excel('output.xlsx', index=False)"
   ]
  },
  {
   "cell_type": "code",
   "execution_count": 13,
   "metadata": {},
   "outputs": [
    {
     "name": "stdout",
     "output_type": "stream",
     "text": [
      "{'-size-': '10', '-radio1-': True, '-radio2-': False, '-coeff-': '', '-year-': 2004.0, '-season-': 'spring'}\n",
      "{'-size-': '100', '-radio1-': True, '-radio2-': False, '-coeff-': '', '-year-': 2008.0, '-season-': 'spring'}\n",
      "100\n"
     ]
    },
    {
     "ename": "TypeError",
     "evalue": "integer argument expected, got float",
     "output_type": "error",
     "traceback": [
      "\u001b[0;31m---------------------------------------------------------------------------\u001b[0m",
      "\u001b[0;31mTypeError\u001b[0m                                 Traceback (most recent call last)",
      "Cell \u001b[0;32mIn[13], line 46\u001b[0m\n\u001b[1;32m     44\u001b[0m     AD_DUR_COEFF \u001b[39m=\u001b[39m values[\u001b[39m'\u001b[39m\u001b[39m-coeff-\u001b[39m\u001b[39m'\u001b[39m]\n\u001b[1;32m     45\u001b[0m chosen_season \u001b[39m=\u001b[39m values[\u001b[39m'\u001b[39m\u001b[39m-season-\u001b[39m\u001b[39m'\u001b[39m]\n\u001b[0;32m---> 46\u001b[0m df \u001b[39m=\u001b[39m pd\u001b[39m.\u001b[39mDataFrame\u001b[39m.\u001b[39mfrom_records(generate_file(), columns\u001b[39m=\u001b[39m[\n\u001b[1;32m     47\u001b[0m     \u001b[39m'\u001b[39m\u001b[39memail\u001b[39m\u001b[39m'\u001b[39m,\n\u001b[1;32m     48\u001b[0m     \u001b[39m'\u001b[39m\u001b[39mip\u001b[39m\u001b[39m'\u001b[39m,\n\u001b[1;32m     49\u001b[0m     \u001b[39m'\u001b[39m\u001b[39mplatform\u001b[39m\u001b[39m'\u001b[39m,\n\u001b[1;32m     50\u001b[0m     \u001b[39m'\u001b[39m\u001b[39mdate\u001b[39m\u001b[39m'\u001b[39m,\n\u001b[1;32m     51\u001b[0m     \u001b[39m'\u001b[39m\u001b[39mad_num\u001b[39m\u001b[39m'\u001b[39m,\n\u001b[1;32m     52\u001b[0m     \u001b[39m'\u001b[39m\u001b[39mad_time\u001b[39m\u001b[39m'\u001b[39m,\n\u001b[1;32m     53\u001b[0m     \u001b[39m'\u001b[39m\u001b[39mad_type\u001b[39m\u001b[39m'\u001b[39m\n\u001b[1;32m     54\u001b[0m ])\n\u001b[1;32m     55\u001b[0m \u001b[39mprint\u001b[39m(\u001b[39m'\u001b[39m\u001b[39mGENERATING!\u001b[39m\u001b[39m'\u001b[39m)\n\u001b[1;32m     56\u001b[0m df\u001b[39m.\u001b[39mto_excel(\u001b[39m'\u001b[39m\u001b[39moutput.xlsx\u001b[39m\u001b[39m'\u001b[39m, index\u001b[39m=\u001b[39m\u001b[39mFalse\u001b[39;00m)\n",
      "Cell \u001b[0;32mIn[11], line 3\u001b[0m, in \u001b[0;36mgenerate_file\u001b[0;34m()\u001b[0m\n\u001b[1;32m      1\u001b[0m \u001b[39mdef\u001b[39;00m \u001b[39mgenerate_file\u001b[39m() \u001b[39m-\u001b[39m\u001b[39m>\u001b[39m \u001b[39mlist\u001b[39m:\n\u001b[1;32m      2\u001b[0m     \u001b[39mprint\u001b[39m(SIZE)\n\u001b[0;32m----> 3\u001b[0m     \u001b[39mreturn\u001b[39;00m [generate_row() \u001b[39mfor\u001b[39;00m i \u001b[39min\u001b[39;00m \u001b[39mrange\u001b[39m(\u001b[39mint\u001b[39m(SIZE))]\n",
      "Cell \u001b[0;32mIn[11], line 3\u001b[0m, in \u001b[0;36m<listcomp>\u001b[0;34m(.0)\u001b[0m\n\u001b[1;32m      1\u001b[0m \u001b[39mdef\u001b[39;00m \u001b[39mgenerate_file\u001b[39m() \u001b[39m-\u001b[39m\u001b[39m>\u001b[39m \u001b[39mlist\u001b[39m:\n\u001b[1;32m      2\u001b[0m     \u001b[39mprint\u001b[39m(SIZE)\n\u001b[0;32m----> 3\u001b[0m     \u001b[39mreturn\u001b[39;00m [generate_row() \u001b[39mfor\u001b[39;00m i \u001b[39min\u001b[39;00m \u001b[39mrange\u001b[39m(\u001b[39mint\u001b[39m(SIZE))]\n",
      "Cell \u001b[0;32mIn[10], line 8\u001b[0m, in \u001b[0;36mgenerate_row\u001b[0;34m()\u001b[0m\n\u001b[1;32m      2\u001b[0m ad_num \u001b[39m=\u001b[39m randint(\u001b[39m1\u001b[39m, \u001b[39m101\u001b[39m)\n\u001b[1;32m      3\u001b[0m ad_time \u001b[39m=\u001b[39m ad_num \u001b[39m*\u001b[39m AD_DUR_COEFF\n\u001b[1;32m      4\u001b[0m row \u001b[39m=\u001b[39m {\n\u001b[1;32m      5\u001b[0m     \u001b[39m'\u001b[39m\u001b[39memail\u001b[39m\u001b[39m'\u001b[39m: generate_email(),\n\u001b[1;32m      6\u001b[0m     \u001b[39m'\u001b[39m\u001b[39mip\u001b[39m\u001b[39m'\u001b[39m: generate_ip(),\n\u001b[1;32m      7\u001b[0m     \u001b[39m'\u001b[39m\u001b[39mplatform\u001b[39m\u001b[39m'\u001b[39m: generate_platform(),\n\u001b[0;32m----> 8\u001b[0m     \u001b[39m'\u001b[39m\u001b[39mdate\u001b[39m\u001b[39m'\u001b[39m: generate_date(chosen_season),\n\u001b[1;32m      9\u001b[0m     \u001b[39m'\u001b[39m\u001b[39mad_num\u001b[39m\u001b[39m'\u001b[39m: ad_num,\n\u001b[1;32m     10\u001b[0m     \u001b[39m'\u001b[39m\u001b[39mad_time\u001b[39m\u001b[39m'\u001b[39m: ad_time,\n\u001b[1;32m     11\u001b[0m     \u001b[39m'\u001b[39m\u001b[39mad_type\u001b[39m\u001b[39m'\u001b[39m: generate_ad(chosen_season),\n\u001b[1;32m     12\u001b[0m }\n\u001b[1;32m     14\u001b[0m \u001b[39mreturn\u001b[39;00m row\n",
      "Cell \u001b[0;32mIn[7], line 7\u001b[0m, in \u001b[0;36mgenerate_date\u001b[0;34m(chosen_season)\u001b[0m\n\u001b[1;32m      1\u001b[0m \u001b[39mdef\u001b[39;00m \u001b[39mgenerate_date\u001b[39m(chosen_season) \u001b[39m-\u001b[39m\u001b[39m>\u001b[39m string:\n\u001b[1;32m      2\u001b[0m     delta \u001b[39m=\u001b[39m datetime\u001b[39m.\u001b[39mtimedelta(\n\u001b[1;32m      3\u001b[0m         days\u001b[39m=\u001b[39mrandint(MONTH_RANGE[chosen_season][\u001b[39m1\u001b[39m]),\n\u001b[1;32m      4\u001b[0m         hours\u001b[39m=\u001b[39mrandint(\u001b[39m25\u001b[39m),\n\u001b[1;32m      5\u001b[0m         minutes\u001b[39m=\u001b[39mrandint(\u001b[39m61\u001b[39m),\n\u001b[1;32m      6\u001b[0m     )\n\u001b[0;32m----> 7\u001b[0m     date \u001b[39m=\u001b[39m datetime\u001b[39m.\u001b[39;49mdatetime(\n\u001b[1;32m      8\u001b[0m         year\u001b[39m=\u001b[39;49mYEAR,\n\u001b[1;32m      9\u001b[0m         month\u001b[39m=\u001b[39;49mMONTH_RANGE[chosen_season][\u001b[39m0\u001b[39;49m],\n\u001b[1;32m     10\u001b[0m         day\u001b[39m=\u001b[39;49mrandint(\u001b[39m1\u001b[39;49m, \u001b[39m31\u001b[39;49m),\n\u001b[1;32m     11\u001b[0m         hour\u001b[39m=\u001b[39;49m\u001b[39m0\u001b[39;49m,\n\u001b[1;32m     12\u001b[0m         minute\u001b[39m=\u001b[39;49m\u001b[39m0\u001b[39;49m\n\u001b[1;32m     13\u001b[0m     )\n\u001b[1;32m     14\u001b[0m     \u001b[39mreturn\u001b[39;00m (date \u001b[39m+\u001b[39m delta)\u001b[39m.\u001b[39misoformat()\n",
      "\u001b[0;31mTypeError\u001b[0m: integer argument expected, got float"
     ]
    },
    {
     "ename": "",
     "evalue": "",
     "output_type": "error",
     "traceback": [
      "\u001b[1;31mThe Kernel crashed while executing code in the the current cell or a previous cell. Please review the code in the cell(s) to identify a possible cause of the failure. Click <a href='https://aka.ms/vscodeJupyterKernelCrash'>here</a> for more info. View Jupyter <a href='command:jupyter.viewOutput'>log</a> for further details."
     ]
    }
   ],
   "source": [
    "sg.theme('DarkPurple1')\n",
    "\n",
    "def new_window(window, coeff=False):\n",
    "    if window is not None:\n",
    "        window.close()\n",
    "    layout = [\n",
    "    [sg.Push(), sg.Text('SPECIFY YOUR DATA', font=('Courier New', 16)), sg.Push()],\n",
    "    [sg.Push(), sg.Text('num of rows:', font=('Courier New', 16)), sg.Input(size=(10, 10), font=('Courier New', 16), key='-size-'), sg.Push()],\n",
    "    [sg.Push(), sg.Radio('random ad duration', \"RAD1\", default=(not coeff), font=('Courier New', 16), enable_events=True, key='-radio1-'),\n",
    "    sg.Radio('specify ad duration', \"RAD1\", default=coeff, font=('Courier New', 16), key='-radio2-', enable_events=True), sg.Push()],\n",
    "    [sg.Push(), sg.Text('ad duration:', visible=coeff, font=('Courier New', 16)),\n",
    "    sg.Input(size=(6, 1), visible=coeff, key='-coeff-', font=('Courier New', 16)), sg.Push()],\n",
    "    [sg.Push(), sg.Text('year:', font=('Courier New', 16)), sg.Slider(range=(2000, 2023), default_value=2000, orientation='horizontal', key='-year-'), sg.Push()],\n",
    "    [sg.Push(), sg.Text('season:', font=('Courier New', 16)), sg.Combo(values=['autumn', 'winter', 'spring', 'summer'], default_value='autumn', font=('Courier New', 16), key='-season-'), sg.Push()],\n",
    "    [sg.Push(), sg.Submit(key='btnSubmit', font=('Courier New', 16)), sg.Push()],\n",
    "    ]\n",
    "\n",
    "    return sg.Window('Specifying data', layout, size=(700,400), element_padding=15)\n",
    "\n",
    "window = new_window(None)\n",
    "\n",
    "def submit_is_correct(size, year, season, coeff, radio1):\n",
    "    if size == '' or size is None or year == '' or year is None or season == '' or season is None:\n",
    "        return False\n",
    "    return (\n",
    "        1 <= int(size) <= 50000\n",
    "        and 2000 <= int(year) <= 2023\n",
    "        and season in ['autumn', 'winter', 'spring', 'summer']\n",
    "        and (((coeff == '' or coeff is None) and radio1) or ((coeff != '' and coeff is not None) and not radio1))\n",
    "    )\n",
    "\n",
    "while True:\n",
    "    event, values = window.read()\n",
    "    print(values)\n",
    "    if event == \"-radio1-\":\n",
    "        window = new_window(window, coeff=False)\n",
    "    elif event == '-radio2-':\n",
    "        window = new_window(window, coeff=True)\n",
    "    elif event == 'btnSubmit':\n",
    "        if submit_is_correct(values['-size-'], values['-year-'], values['-season-'], values['-coeff-'], bool(values['-radio1-'])):\n",
    "            SIZE = int(values['-size-'])\n",
    "            YEAR = values['-year-']\n",
    "            if values['-radio2-'] and values['-coeff-'] != '':\n",
    "                AD_DUR_COEFF = values['-coeff-']\n",
    "            chosen_season = values['-season-']\n",
    "            df = pd.DataFrame.from_records(generate_file(), columns=[\n",
    "                'email',\n",
    "                'ip',\n",
    "                'platform',\n",
    "                'date',\n",
    "                'ad_num',\n",
    "                'ad_time',\n",
    "                'ad_type'\n",
    "            ])\n",
    "            print('GENERATING!')\n",
    "            df.to_excel('output.xlsx', index=False)\n",
    "            break\n",
    "    elif event == sg.WIN_CLOSED: \n",
    "        break\n",
    "\n",
    "window.close()"
   ]
  },
  {
   "cell_type": "code",
   "execution_count": null,
   "metadata": {},
   "outputs": [],
   "source": []
  }
 ],
 "metadata": {
  "kernelspec": {
   "display_name": "Python 3",
   "language": "python",
   "name": "python3"
  },
  "language_info": {
   "codemirror_mode": {
    "name": "ipython",
    "version": 3
   },
   "file_extension": ".py",
   "mimetype": "text/x-python",
   "name": "python",
   "nbconvert_exporter": "python",
   "pygments_lexer": "ipython3",
   "version": "3.9.0"
  },
  "orig_nbformat": 4
 },
 "nbformat": 4,
 "nbformat_minor": 2
}
